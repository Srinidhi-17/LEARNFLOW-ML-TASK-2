{
 "cells": [
  {
   "cell_type": "code",
   "execution_count": 1,
   "id": "8e6c3513-8899-4241-b1bf-e14c9dbaea6c",
   "metadata": {},
   "outputs": [
    {
     "name": "stdout",
     "output_type": "stream",
     "text": [
      "Size of the training dataset: 31367 samples\n",
      "Size of the testing dataset: 7842 samples\n"
     ]
    }
   ],
   "source": [
    "import os\n",
    "import numpy as np\n",
    "from skimage import io\n",
    "from skimage import transform\n",
    "from sklearn.model_selection import train_test_split\n",
    "from sklearn.preprocessing import LabelBinarizer\n",
    "from tensorflow.keras.models import Sequential\n",
    "from tensorflow.keras.layers import Conv2D, MaxPooling2D, Flatten, Dense, Dropout\n",
    "from tensorflow.keras.optimizers import Adam\n",
    "from tensorflow.keras.preprocessing.image import ImageDataGenerator\n",
    "dataset_path = r\"C:\\Users\\SRINI\\Downloads\\archive (2)\\Train\"\n",
    "def load_dataset(dataset_path):\n",
    "    data = []\n",
    "    labels = []\n",
    "    for class_folder in os.listdir(dataset_path):\n",
    "        class_path = os.path.join(dataset_path, class_folder)\n",
    "        if os.path.isdir(class_path):\n",
    "            for image_file in os.listdir(class_path):\n",
    "                image_path = os.path.join(class_path, image_file)\n",
    "                image = io.imread(image_path)\n",
    "                image = transform.resize(image, (32, 32))  \n",
    "                data.append(image)\n",
    "                labels.append(int(class_folder))\n",
    "    return np.array(data), np.array(labels)\n",
    "data, labels = load_dataset(dataset_path)\n",
    "X_train, X_test, y_train, y_test = train_test_split(data, labels, test_size=0.2, random_state=42)\n",
    "lb = LabelBinarizer()\n",
    "y_train = lb.fit_transform(y_train)\n",
    "y_test = lb.transform(y_test)\n",
    "print(f\"Size of the training dataset: {len(X_train)} samples\")\n",
    "print(f\"Size of the testing dataset: {len(X_test)} samples\")\n",
    "model = Sequential()\n",
    "model.add(Conv2D(32, (3, 3), activation='relu', input_shape=(32, 32, 3)))\n",
    "model.add(MaxPooling2D(2, 2))\n",
    "model.add(Conv2D(64, (3, 3), activation='relu'))\n",
    "model.add(MaxPooling2D(2, 2))\n",
    "model.add(Flatten())\n",
    "model.add(Dense(128, activation='relu'))\n",
    "model.add(Dropout(0.5))\n",
    "model.add(Dense(43, activation='softmax'))  \n",
    "model.compile(optimizer=Adam(learning_rate=0.001), loss='categorical_crossentropy', metrics=['accuracy'])\n",
    "datagen = ImageDataGenerator(rotation_range=10, zoom_range=0.1, width_shift_range=0.1, height_shift_range=0.1)\n",
    "datagen.fit(X_train)"
   ]
  },
  {
   "cell_type": "code",
   "execution_count": 2,
   "id": "0a5a8639-b78a-4aaf-80d6-3f9660765467",
   "metadata": {},
   "outputs": [
    {
     "name": "stdout",
     "output_type": "stream",
     "text": [
      "Epoch 1/10\n",
      "981/981 [==============================] - 84s 75ms/step - loss: 2.4131 - accuracy: 0.3137 - val_loss: 1.0787 - val_accuracy: 0.6787\n",
      "Epoch 2/10\n",
      "981/981 [==============================] - 70s 72ms/step - loss: 1.3697 - accuracy: 0.5519 - val_loss: 0.6391 - val_accuracy: 0.8031\n",
      "Epoch 3/10\n",
      "981/981 [==============================] - 68s 69ms/step - loss: 1.0425 - accuracy: 0.6519 - val_loss: 0.3918 - val_accuracy: 0.8878\n",
      "Epoch 4/10\n",
      "981/981 [==============================] - 66s 67ms/step - loss: 0.8404 - accuracy: 0.7195 - val_loss: 0.2802 - val_accuracy: 0.9223\n",
      "Epoch 5/10\n",
      "981/981 [==============================] - 67s 68ms/step - loss: 0.7119 - accuracy: 0.7648 - val_loss: 0.1863 - val_accuracy: 0.9439\n",
      "Epoch 6/10\n",
      "981/981 [==============================] - 65s 66ms/step - loss: 0.6244 - accuracy: 0.7937 - val_loss: 0.1441 - val_accuracy: 0.9638\n",
      "Epoch 7/10\n",
      "981/981 [==============================] - 64s 65ms/step - loss: 0.5568 - accuracy: 0.8161 - val_loss: 0.1178 - val_accuracy: 0.9718\n",
      "Epoch 8/10\n",
      "981/981 [==============================] - 63s 65ms/step - loss: 0.4954 - accuracy: 0.8352 - val_loss: 0.1085 - val_accuracy: 0.9733\n",
      "Epoch 9/10\n",
      "981/981 [==============================] - 67s 68ms/step - loss: 0.4638 - accuracy: 0.8492 - val_loss: 0.0760 - val_accuracy: 0.9810\n",
      "Epoch 10/10\n",
      "981/981 [==============================] - 68s 69ms/step - loss: 0.4186 - accuracy: 0.8638 - val_loss: 0.0662 - val_accuracy: 0.9841\n",
      "Epoch 1/10 - Training Accuracy: 0.3137 - Validation Accuracy: 0.6787\n",
      "Epoch 2/10 - Training Accuracy: 0.5519 - Validation Accuracy: 0.8031\n",
      "Epoch 3/10 - Training Accuracy: 0.6519 - Validation Accuracy: 0.8878\n",
      "Epoch 4/10 - Training Accuracy: 0.7195 - Validation Accuracy: 0.9223\n",
      "Epoch 5/10 - Training Accuracy: 0.7648 - Validation Accuracy: 0.9439\n",
      "Epoch 6/10 - Training Accuracy: 0.7937 - Validation Accuracy: 0.9638\n",
      "Epoch 7/10 - Training Accuracy: 0.8161 - Validation Accuracy: 0.9718\n",
      "Epoch 8/10 - Training Accuracy: 0.8352 - Validation Accuracy: 0.9733\n",
      "Epoch 9/10 - Training Accuracy: 0.8492 - Validation Accuracy: 0.9810\n",
      "Epoch 10/10 - Training Accuracy: 0.8638 - Validation Accuracy: 0.9841\n"
     ]
    }
   ],
   "source": [
    "epochs = 10\n",
    "history = model.fit(datagen.flow(X_train, y_train, batch_size=32), epochs=epochs, validation_data=(X_test, y_test))\n",
    "for epoch, acc, val_acc in zip(range(1, epochs+1), history.history['accuracy'], history.history['val_accuracy']):\n",
    "    print(f\"Epoch {epoch}/{epochs} - Training Accuracy: {acc:.4f} - Validation Accuracy: {val_acc:.4f}\")"
   ]
  },
  {
   "cell_type": "code",
   "execution_count": 3,
   "id": "96a9bbf7-0f93-4678-940c-7d66be68cff6",
   "metadata": {},
   "outputs": [
    {
     "name": "stdout",
     "output_type": "stream",
     "text": [
      "246/246 [==============================] - 4s 17ms/step - loss: 0.0662 - accuracy: 0.9841\n",
      "\n",
      "Accuracy on the testing dataset: 98.41%\n",
      "246/246 [==============================] - 4s 15ms/step\n",
      "\n",
      "Classification Report:\n",
      "              precision    recall  f1-score   support\n",
      "\n",
      "           0       1.00      0.79      0.88        38\n",
      "           1       0.98      0.98      0.98       496\n",
      "           2       0.94      0.98      0.96       420\n",
      "           3       0.99      0.92      0.96       294\n",
      "           4       0.99      0.99      0.99       400\n",
      "           5       0.92      0.90      0.91       364\n",
      "           6       0.99      1.00      0.99        69\n",
      "           7       0.94      1.00      0.97       313\n",
      "           8       1.00      0.97      0.99       274\n",
      "           9       1.00      1.00      1.00       277\n",
      "          10       1.00      1.00      1.00       398\n",
      "          11       0.99      1.00      0.99       261\n",
      "          12       1.00      1.00      1.00       443\n",
      "          13       1.00      1.00      1.00       422\n",
      "          14       1.00      0.99      1.00       135\n",
      "          15       1.00      1.00      1.00       118\n",
      "          16       1.00      1.00      1.00        86\n",
      "          17       1.00      1.00      1.00       240\n",
      "          18       0.98      1.00      0.99       215\n",
      "          19       1.00      0.98      0.99        42\n",
      "          20       0.97      1.00      0.98        57\n",
      "          21       0.98      0.94      0.96        67\n",
      "          22       1.00      1.00      1.00        57\n",
      "          23       0.97      0.99      0.98       106\n",
      "          24       1.00      1.00      1.00        61\n",
      "          25       0.99      1.00      1.00       328\n",
      "          26       0.99      0.97      0.98       121\n",
      "          27       1.00      0.98      0.99        60\n",
      "          28       1.00      0.98      0.99       103\n",
      "          29       0.98      0.98      0.98        54\n",
      "          30       0.99      0.91      0.95        86\n",
      "          31       0.96      0.99      0.97       156\n",
      "          32       1.00      0.97      0.99        34\n",
      "          33       0.99      0.99      0.99       153\n",
      "          34       1.00      1.00      1.00        79\n",
      "          35       1.00      1.00      1.00       240\n",
      "          36       1.00      1.00      1.00        76\n",
      "          37       1.00      1.00      1.00        48\n",
      "          38       1.00      1.00      1.00       434\n",
      "          39       0.98      1.00      0.99        53\n",
      "          40       1.00      0.99      0.99        78\n",
      "          41       1.00      1.00      1.00        40\n",
      "          42       1.00      1.00      1.00        46\n",
      "\n",
      "    accuracy                           0.98      7842\n",
      "   macro avg       0.99      0.98      0.98      7842\n",
      "weighted avg       0.98      0.98      0.98      7842\n",
      "\n",
      "\n",
      "Confusion Matrix:\n",
      "[[ 30   6   0 ...   0   0   0]\n",
      " [  0 488   6 ...   0   0   0]\n",
      " [  0   1 413 ...   0   0   0]\n",
      " ...\n",
      " [  0   0   0 ...  77   0   0]\n",
      " [  0   0   0 ...   0  40   0]\n",
      " [  0   0   0 ...   0   0  46]]\n"
     ]
    }
   ],
   "source": [
    "from sklearn.metrics import confusion_matrix\n",
    "from sklearn.metrics import classification_report\n",
    "loss, accuracy = model.evaluate(X_test, y_test)\n",
    "print(f\"\\nAccuracy on the testing dataset: {accuracy*100:.2f}%\")\n",
    "predictions = model.predict(X_test)\n",
    "y_test_argmax = y_test.argmax(axis=1)\n",
    "predictions_argmax = predictions.argmax(axis=1)\n",
    "class_names=[str(label) for label in lb.classes_]\n",
    "classification_report_output = classification_report(y_test_argmax, predictions_argmax, target_names=class_names)\n",
    "print(f\"\\nClassification Report:\\n{classification_report_output}\")\n",
    "conf_mat = confusion_matrix(y_test_argmax, predictions_argmax)\n",
    "print(\"\\nConfusion Matrix:\")\n",
    "print(conf_mat)"
   ]
  },
  {
   "cell_type": "code",
   "execution_count": 4,
   "id": "b67df179-2d53-4705-9189-da899f96549f",
   "metadata": {},
   "outputs": [
    {
     "name": "stdout",
     "output_type": "stream",
     "text": [
      "1/1 [==============================] - 0s 81ms/step\n",
      "Predicted Class: 2\n"
     ]
    }
   ],
   "source": [
    "import numpy as np\n",
    "from tensorflow.keras.preprocessing import image\n",
    "def load_and_preprocess_image(image_path):\n",
    "    img = image.load_img(image_path, target_size=(32, 32))\n",
    "    img_array = image.img_to_array(img)\n",
    "    img_array = np.expand_dims(img_array, axis=0)\n",
    "    img_array /= 255.0\n",
    "    return img, img_array\n",
    "image_path = r\"C:\\Users\\SRINI\\Downloads\\archive (2)\\Test\\12614.png\"\n",
    "input_image, input_image_array = load_and_preprocess_image(image_path)\n",
    "predictions = model.predict(input_image_array)\n",
    "predicted_class = np.argmax(predictions)\n",
    "predicted_label = lb.classes_[predicted_class]\n",
    "print(f\"Predicted Class: {predicted_label}\")"
   ]
  },
  {
   "cell_type": "code",
   "execution_count": null,
   "id": "79efc462-f939-4143-8935-a2d2d6df31fb",
   "metadata": {},
   "outputs": [],
   "source": []
  }
 ],
 "metadata": {
  "kernelspec": {
   "display_name": "Python 3 (ipykernel)",
   "language": "python",
   "name": "python3"
  },
  "language_info": {
   "codemirror_mode": {
    "name": "ipython",
    "version": 3
   },
   "file_extension": ".py",
   "mimetype": "text/x-python",
   "name": "python",
   "nbconvert_exporter": "python",
   "pygments_lexer": "ipython3",
   "version": "3.11.5"
  }
 },
 "nbformat": 4,
 "nbformat_minor": 5
}
